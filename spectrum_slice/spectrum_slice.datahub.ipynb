{
 "cells": [
  {
   "cell_type": "markdown",
   "metadata": {},
   "source": [
    "# Spectrogram and spectrum slice display\n",
    "\n",
    "Select an audio file from the dropdown list to display its waveform spectrogram. Click on a part of the waveform or spectrogram to select a spectrum slice to display. Mouse over the spectrum slice to explore the frequencies. The circle tracks the current frequency in the spectrum slice and spectrogram, and current values are displayed in the table.\n",
    "\n",
    "Spectrogram and spectrum slice values below the low threshold are shaded blue. The analysis window slider adjusts the spectrogram analysis window."
   ]
  },
  {
   "cell_type": "code",
   "execution_count": null,
   "metadata": {},
   "outputs": [],
   "source": [
    "# This is a temporary hack to figure out if we are running on datahub.berkeley.edu\n",
    "# and doing additional setup if we are.\n",
    "!bash ../datahub_start.sh"
   ]
  },
  {
   "cell_type": "code",
   "execution_count": null,
   "metadata": {},
   "outputs": [],
   "source": [
    "import os\n",
    "os.environ['BOKEH_RESOURCES'] = 'inline' # To ensure we load monkeypatched version of bokeh rather than from cdn\n",
    "from spectrum_slice_app import spectrum_slice_app\n",
    "from bokeh_phon.utils import remote_jupyter_proxy_url_callback, set_default_jupyter_url\n",
    "from bokeh.io import show\n",
    "# Set this value to the hostname you find in your browser url bar. Do not include\n",
    "# any path found after the hostname.\n",
    "set_default_jupyter_url('https://datahub.berkeley.edu/')\n",
    "show(spectrum_slice_app, notebook_url=remote_jupyter_proxy_url_callback)"
   ]
  }
 ],
 "metadata": {
  "kernelspec": {
   "display_name": "Custom Bokeh Python",
   "language": "python",
   "name": "custom-bokeh"
  },
  "language_info": {
   "codemirror_mode": {
    "name": "ipython",
    "version": 3
   },
   "file_extension": ".py",
   "mimetype": "text/x-python",
   "name": "python",
   "nbconvert_exporter": "python",
   "pygments_lexer": "ipython3",
   "version": "3.7.7"
  }
 },
 "nbformat": 4,
 "nbformat_minor": 4
}
