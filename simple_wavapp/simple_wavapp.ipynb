{
 "cells": [
  {
   "cell_type": "markdown",
   "metadata": {},
   "source": [
    "# A simple waveform demo\n",
    "\n",
    "Select an audio file to explore. Use the tools on the left to navigate the waveform and click a button to play a portion of the waveform in your browser.\n",
    "\n",
    "If running in a BinderHub instance instead of in a local notebook, it might be necessary to change the `default_url` value below."
   ]
  },
  {
   "cell_type": "code",
   "execution_count": null,
   "metadata": {},
   "outputs": [],
   "source": [
    "import os\n",
    "import urllib\n",
    "from bokeh_phon.models.audio_plot import AudioPlot\n",
    "from phonlab.utils import dir2df\n",
    "from bokeh.models import Button, Select\n",
    "from bokeh.io import show, output_notebook\n",
    "from bokeh.layouts import column\n",
    "import parselmouth\n",
    "import numpy as np\n",
    "output_notebook()"
   ]
  },
  {
   "cell_type": "code",
   "execution_count": null,
   "metadata": {},
   "outputs": [],
   "source": [
    "# The remote_jupyter_proxy_url function is required when running on a BinderHub instance.\n",
    "# Change the default_url value to match the hostname of your instance after it has\n",
    "# started. The current value is the most frequent result when launching from mybinder.org.\n",
    "default_url = 'https://hub.gke.mybinder.org/'\n",
    "\n",
    "def remote_jupyter_proxy_url(port):\n",
    "    \"\"\"\n",
    "    Callable to configure Bokeh's show method when a proxy must be\n",
    "    configured.\n",
    "\n",
    "    If port is None we're asking about the URL\n",
    "    for the origin header.\n",
    "    \"\"\"\n",
    "    try:\n",
    "        base_url = os.environ['EXTERNAL_URL']\n",
    "    except KeyError:\n",
    "        base_url = default_url\n",
    "    host = urllib.parse.urlparse(base_url).netloc\n",
    "\n",
    "    # If port is None we're asking for the URL origin\n",
    "    # so return the public hostname.\n",
    "    if port is None:\n",
    "        return host\n",
    "\n",
    "    service_url_path = os.environ['JUPYTERHUB_SERVICE_PREFIX']\n",
    "    proxy_url_path = 'proxy/%d' % port\n",
    "\n",
    "    user_url = urllib.parse.urljoin(base_url, service_url_path)\n",
    "    full_url = urllib.parse.urljoin(user_url, proxy_url_path)\n",
    "    return full_url"
   ]
  },
  {
   "cell_type": "code",
   "execution_count": null,
   "metadata": {},
   "outputs": [],
   "source": [
    "def myapp(doc):\n",
    "    def load_wav_cb(attr, old, new):\n",
    "        snd = parselmouth.Sound(new)\n",
    "        samples = np.squeeze(snd.values).astype(np.float32)\n",
    "        ap.fs = np.float32(snd.sampling_frequency)\n",
    "        ap.wav.data_source.data = {\n",
    "            'times': np.arange(len(samples)) / ap.fs,\n",
    "            'samples': samples\n",
    "        }\n",
    "        ap.selbox.left = 0.0\n",
    "        ap.selbox.right = 0.0\n",
    "        ap.selbox.visible = False\n",
    "\n",
    "    fdf = dir2df('..', fnpat='.*\\.wav$', dirpat='resource')\n",
    "    fdf['fpath'] = '../' + fdf.relpath.str.cat(fdf.fname, sep='/')\n",
    "    options = [('', 'Choose an audio file')] + list(fdf.loc[:,['fpath', 'fname']].itertuples(index=False, name=None))\n",
    "    fselect = Select(options=options)\n",
    "    fselect.on_change('value', load_wav_cb)\n",
    "    ap = AudioPlot(\n",
    "        samples=np.array([0, 0]),\n",
    "        fs=44100,\n",
    "        # Remaining arguments are passed to Figure().\n",
    "        plot_height=200,\n",
    "        toolbar_location='left'\n",
    "    )\n",
    "    playallbtn = Button(label='Play all')\n",
    "    playallbtn.js_on_event('button_click', ap.js_playall_cb)\n",
    "    playselbtn = Button(label='Play selection')\n",
    "    playselbtn.js_on_event('button_click', ap.js_playsel_cb)\n",
    "    playxrbtn = Button(label='Play x range')\n",
    "    playxrbtn.js_on_event('button_click', ap.js_playxr_cb)\n",
    "    col = column(fselect, playallbtn, playselbtn, playxrbtn, ap)\n",
    "    doc.add_root(col)\n",
    "    return doc\n",
    "\n",
    "\n",
    "# The notebook_url parameter is required when running in a BinderHub instance.\n",
    "# If running a local notebook, omit that parameter.\n",
    "#show(myapp)    # For running a local notebook\n",
    "show(myapp, notebook_url=remote_jupyter_proxy_url)"
   ]
  }
 ],
 "metadata": {
  "kernelspec": {
   "display_name": "Custom Bokeh Python",
   "language": "python",
   "name": "custom-bokeh"
  },
  "language_info": {
   "codemirror_mode": {
    "name": "ipython",
    "version": 3
   },
   "file_extension": ".py",
   "mimetype": "text/x-python",
   "name": "python",
   "nbconvert_exporter": "python",
   "pygments_lexer": "ipython3",
   "version": "3.7.7"
  }
 },
 "nbformat": 4,
 "nbformat_minor": 4
}
