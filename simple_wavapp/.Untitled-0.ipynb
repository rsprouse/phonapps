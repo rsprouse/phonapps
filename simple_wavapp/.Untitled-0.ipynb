{
 "cells": [
  {
   "cell_type": "markdown",
   "metadata": {},
   "source": [
    "# A simple waveform demo\n",
    "\n",
    "Select a tool on the left to navigate the waveform and click a button to play a portion of the waveform in the browser."
   ]
  },
  {
   "cell_type": "code",
   "execution_count": null,
   "metadata": {},
   "outputs": [],
   "source": [
    "from bokeh_phon.models.audio_plot import AudioPlot\n",
    "from bokeh.models import Button\n",
    "from bokeh.io import show, output_notebook\n",
    "from bokeh.layouts import column\n",
    "import parselmouth\n",
    "import numpy as np\n",
    "output_notebook()"
   ]
  },
  {
   "cell_type": "code",
   "execution_count": null,
   "metadata": {},
   "outputs": [],
   "source": [
    "def myapp(doc):\n",
    "    snd = parselmouth.Sound('../resource/the_north_wind_and_the_sun.reverse.wav')\n",
    "    ap = AudioPlot(\n",
    "        samples=np.squeeze(snd.values),\n",
    "        fs=snd.sampling_frequency,\n",
    "        # Remaining arguments are passed to Figure().\n",
    "        plot_height=200,\n",
    "        toolbar_location='left'\n",
    "    )\n",
    "    playallbtn = Button(label='Play all')\n",
    "    playallbtn.js_on_event('button_click', ap.js_playall_cb)\n",
    "    playselbtn = Button(label='Play selection')\n",
    "    playselbtn.js_on_event('button_click', ap.js_playsel_cb)\n",
    "    playxrbtn = Button(label='Play x range')\n",
    "    playxrbtn.js_on_event('button_click', ap.js_playxr_cb)\n",
    "    col = column(playallbtn, playselbtn, playxrbtn, ap)\n",
    "    doc.add_root(col)\n",
    "    return doc\n",
    "show(myapp)"
   ]
  }
 ],
 "metadata": {
  "kernelspec": {
   "display_name": "Custom Bokeh Python",
   "language": "python",
   "name": "custom-bokeh"
  },
  "language_info": {
   "codemirror_mode": {
    "name": "ipython",
    "version": 3
   },
   "file_extension": ".py",
   "mimetype": "text/x-python",
   "name": "python",
   "nbconvert_exporter": "python",
   "pygments_lexer": "ipython3",
   "version": "3.7.7"
  }
 },
 "nbformat": 4,
 "nbformat_minor": 4
}
